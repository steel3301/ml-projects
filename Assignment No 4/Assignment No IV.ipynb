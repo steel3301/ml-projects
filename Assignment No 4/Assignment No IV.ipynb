{
 "cells": [
  {
   "cell_type": "code",
   "execution_count": 7,
   "metadata": {
    "executionInfo": {
     "elapsed": 7875,
     "status": "ok",
     "timestamp": 1738047219369,
     "user": {
      "displayName": "YASH MASKE",
      "userId": "02160536216755826087"
     },
     "user_tz": -330
    },
    "id": "9sFvk-BDroRH"
   },
   "outputs": [],
   "source": [
    "import numpy as np\n",
    "from sklearn.metrics import confusion_matrix\n",
    "import seaborn as sns\n",
    "import matplotlib.pyplot as plt"
   ]
  },
  {
   "cell_type": "code",
   "execution_count": 8,
   "metadata": {
    "executionInfo": {
     "elapsed": 382,
     "status": "ok",
     "timestamp": 1738047335768,
     "user": {
      "displayName": "YASH MASKE",
      "userId": "02160536216755826087"
     },
     "user_tz": -330
    },
    "id": "RBmcdidRr5mk"
   },
   "outputs": [
    {
     "name": "stdout",
     "output_type": "stream",
     "text": [
      "Actual: ['Spam' 'Not Spam' 'Not Spam' 'Spam' 'Spam' 'Spam' 'Spam' 'Not Spam'\n",
      " 'Spam' 'Not Spam' 'Spam' 'Not Spam' 'Not Spam' 'Spam' 'Spam' 'Spam'\n",
      " 'Spam' 'Spam' 'Spam' 'Spam' 'Spam' 'Spam' 'Spam' 'Spam' 'Spam' 'Not Spam'\n",
      " 'Spam' 'Spam' 'Spam' 'Spam' 'Spam' 'Spam' 'Spam' 'Not Spam' 'Not Spam'\n",
      " 'Not Spam' 'Spam' 'Spam' 'Spam' 'Spam']\n",
      "Predicted: ['Spam' 'Spam' 'Spam' 'Not Spam' 'Spam' 'Spam' 'Spam' 'Spam' 'Spam' 'Spam'\n",
      " 'Not Spam' 'Not Spam' 'Not Spam' 'Not Spam' 'Spam' 'Not Spam' 'Spam'\n",
      " 'Spam' 'Spam' 'Spam' 'Spam' 'Spam' 'Not Spam' 'Spam' 'Spam' 'Spam' 'Spam'\n",
      " 'Not Spam' 'Spam' 'Not Spam' 'Not Spam' 'Spam' 'Spam' 'Not Spam'\n",
      " 'Not Spam' 'Not Spam' 'Not Spam' 'Spam' 'Spam' 'Spam']\n"
     ]
    }
   ],
   "source": [
    "\n",
    "import random\n",
    "\n",
    "\n",
    "np.random.seed(42)\n",
    "random.seed(42)\n",
    "\n",
    "\n",
    "labels = ['Spam', 'Not Spam']\n",
    "\n",
    "\n",
    "n_samples = 40  \n",
    "actual = np.random.choice(labels, size=n_samples, p=[0.7, 0.3])  \n",
    "predicted = np.random.choice(labels, size=n_samples, p=[0.7, 0.3])\n",
    "\n",
    "print(\"Actual:\", actual)\n",
    "print(\"Predicted:\", predicted)"
   ]
  },
  {
   "cell_type": "code",
   "execution_count": 9,
   "metadata": {
    "executionInfo": {
     "elapsed": 4,
     "status": "ok",
     "timestamp": 1738047359605,
     "user": {
      "displayName": "YASH MASKE",
      "userId": "02160536216755826087"
     },
     "user_tz": -330
    },
    "id": "bnZ6QOIVsahc"
   },
   "outputs": [],
   "source": [
    "cm = confusion_matrix(actual,predicted)"
   ]
  },
  {
   "cell_type": "code",
   "execution_count": 10,
   "metadata": {
    "colab": {
     "base_uri": "https://localhost:8080/",
     "height": 481
    },
    "executionInfo": {
     "elapsed": 771,
     "status": "ok",
     "timestamp": 1738047485946,
     "user": {
      "displayName": "YASH MASKE",
      "userId": "02160536216755826087"
     },
     "user_tz": -330
    },
    "id": "IJN22pjXsdTK",
    "outputId": "11aa42c3-672e-4d6c-c9c5-f12af0fbfee0"
   },
   "outputs": [
    {
     "data": {
      "image/png": "[encoded data removed]",
      "text/plain": [
       "<Figure size 640x480 with 2 Axes>"
      ]
     },
     "metadata": {},
     "output_type": "display_data"
    }
   ],
   "source": [
    "sns.heatmap(\n",
    "    cm,\n",
    "    annot = True,\n",
    "    fmt = 'g',\n",
    "    xticklabels = ['Spam','Not Spam'],\n",
    "    yticklabels = ['Spam','Not Spam']\n",
    ")\n",
    "\n",
    "plt.ylabel('Prediction',fontsize=13)\n",
    "plt.xlabel('Actual',fontsize=13)\n",
    "plt.title('Confusion Matrix',fontsize=17)\n",
    "plt.show()"
   ]
  },
  {
   "cell_type": "code",
   "execution_count": 13,
   "metadata": {
    "colab": {
     "base_uri": "https://localhost:8080/"
    },
    "executionInfo": {
     "elapsed": 488,
     "status": "ok",
     "timestamp": 1738047782720,
     "user": {
      "displayName": "YASH MASKE",
      "userId": "02160536216755826087"
     },
     "user_tz": -330
    },
    "id": "El3_WZsNsq0D",
    "outputId": "82c91c12-70c6-4e57-96d8-3f5f5f042da2"
   },
   "outputs": [
    {
     "name": "stdout",
     "output_type": "stream",
     "text": [
      "Accuracy: 0.65\n",
      "Precision: 0.695054945054945\n",
      "Recall: 0.65\n",
      "F1 Score: 0.6666666666666667\n"
     ]
    }
   ],
   "source": [
    "from sklearn.metrics import accuracy_score, precision_score, recall_score, f1_score\n",
    "\n",
    "accuracy = accuracy_score(actual, predicted)\n",
    "print('Accuracy:', accuracy)\n",
    "\n",
    "precision = precision_score(actual, predicted, average='weighted')  \n",
    "print('Precision:', precision)\n",
    "\n",
    "recall = recall_score(actual, predicted, average='weighted')  \n",
    "print('Recall:', recall)\n",
    "\n",
    "f1 = f1_score(actual, predicted, average='weighted')  \n",
    "print('F1 Score:', f1)\n"
   ]
  },
  {
   "cell_type": "code",
   "execution_count": null,
   "metadata": {
    "id": "PJRoTCjFtWd3"
   },
   "outputs": [],
   "source": []
  }
 ],
 "metadata": {
  "colab": {
   "authorship_tag": "ABX9TyP0V6gKY8E9TIrSZONKOJ0J",
   "provenance": []
  },
  "kernelspec": {
   "display_name": "Python 3",
   "name": "python3"
  },
  "language_info": {
   "codemirror_mode": {
    "name": "ipython",
    "version": 3
   },
   "file_extension": ".py",
   "mimetype": "text/x-python",
   "name": "python",
   "nbconvert_exporter": "python",
   "pygments_lexer": "ipython3",
   "version": "3.12.2"
  }
 },
 "nbformat": 4,
 "nbformat_minor": 0
}
